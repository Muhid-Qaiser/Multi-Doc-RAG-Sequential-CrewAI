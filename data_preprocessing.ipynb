{
 "cells": [
  {
   "cell_type": "code",
   "execution_count": 1,
   "metadata": {},
   "outputs": [
    {
     "name": "stdout",
     "output_type": "stream",
     "text": [
      "              Name                                 LinkedIn_URL  \\\n",
      "0       Bill Gates    https://www.linkedin.com/in/williamhgates   \n",
      "1  Sheryl Sandberg   https://www.linkedin.com/in/sherylsandberg   \n",
      "2  Richard Branson   https://www.linkedin.com/in/richardbranson   \n",
      "3    Satya Nadella     https://www.linkedin.com/in/satyanadella   \n",
      "4      Indra Nooyi       https://www.linkedin.com/in/indranooyi   \n",
      "5         Tim Cook  https://www.linkedin.com/in/tim-cook-123456   \n",
      "6       Mary Barra        https://www.linkedin.com/in/marybarra   \n",
      "7        Elon Musk         https://www.linkedin.com/in/elonmusk   \n",
      "8    Marissa Mayer     https://www.linkedin.com/in/marissamayer   \n",
      "9      Jeff Weiner     https://www.linkedin.com/in/jeffweiner08   \n",
      "\n",
      "   vacations_remaining  \n",
      "0                    2  \n",
      "1                    3  \n",
      "2                    1  \n",
      "3                    0  \n",
      "4                    1  \n",
      "5                    2  \n",
      "6                    3  \n",
      "7                    0  \n",
      "8                    1  \n",
      "9                    2  \n",
      "DataFrame has been saved to famous_people.csv\n"
     ]
    }
   ],
   "source": [
    "import pandas as pd\n",
    "from io import StringIO\n",
    "\n",
    "# Define the CSV data as a multi-line string\n",
    "csv_data = \"\"\"Name,LinkedIn_URL,vacations_remaining\n",
    "\"Bill Gates\",https://www.linkedin.com/in/williamhgates,2\n",
    "\"Sheryl Sandberg\",https://www.linkedin.com/in/sherylsandberg,3\n",
    "\"Richard Branson\",https://www.linkedin.com/in/richardbranson,1\n",
    "\"Satya Nadella\",https://www.linkedin.com/in/satyanadella,0\n",
    "\"Indra Nooyi\",https://www.linkedin.com/in/indranooyi,1\n",
    "\"Tim Cook\",https://www.linkedin.com/in/tim-cook-123456,2\n",
    "\"Mary Barra\",https://www.linkedin.com/in/marybarra,3\n",
    "\"Elon Musk\",https://www.linkedin.com/in/elonmusk,0\n",
    "\"Marissa Mayer\",https://www.linkedin.com/in/marissamayer,1\n",
    "\"Jeff Weiner\",https://www.linkedin.com/in/jeffweiner08,2\"\"\"\n",
    "\n",
    "# Use StringIO to create a file-like object from the CSV string\n",
    "csv_file_like = StringIO(csv_data)\n",
    "\n",
    "# Read the CSV data into a DataFrame\n",
    "df = pd.read_csv(csv_file_like)\n",
    "\n",
    "# Display the DataFrame (optional)\n",
    "print(df)\n",
    "\n",
    "# Write the DataFrame to a CSV file\n",
    "output_filename = \"famous_people.csv\"\n",
    "df.to_csv(output_filename, index=False)\n",
    "\n",
    "print(f\"DataFrame has been saved to {output_filename}\")\n"
   ]
  },
  {
   "cell_type": "code",
   "execution_count": null,
   "metadata": {},
   "outputs": [],
   "source": []
  },
  {
   "cell_type": "code",
   "execution_count": null,
   "metadata": {},
   "outputs": [],
   "source": []
  },
  {
   "cell_type": "code",
   "execution_count": null,
   "metadata": {},
   "outputs": [],
   "source": []
  },
  {
   "cell_type": "code",
   "execution_count": null,
   "metadata": {},
   "outputs": [],
   "source": []
  },
  {
   "cell_type": "code",
   "execution_count": null,
   "metadata": {},
   "outputs": [],
   "source": []
  }
 ],
 "metadata": {
  "kernelspec": {
   "display_name": "Python 3",
   "language": "python",
   "name": "python3"
  },
  "language_info": {
   "codemirror_mode": {
    "name": "ipython",
    "version": 3
   },
   "file_extension": ".py",
   "mimetype": "text/x-python",
   "name": "python",
   "nbconvert_exporter": "python",
   "pygments_lexer": "ipython3",
   "version": "3.12.5"
  }
 },
 "nbformat": 4,
 "nbformat_minor": 2
}
